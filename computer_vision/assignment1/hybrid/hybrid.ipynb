{
 "cells": [
  {
   "cell_type": "code",
   "execution_count": null,
   "metadata": {},
   "outputs": [],
   "source": [
    "%matplotlib inline\n",
    "import numpy as np\n",
    "import matplotlib.pyplot as plt\n",
    "import pyrtools as pt"
   ]
  },
  {
   "cell_type": "code",
   "execution_count": null,
   "metadata": {},
   "outputs": [],
   "source": [
    "img_tmp=plt.imread('./Einstein.jpg')\n",
    "img_curie=plt.imread('./Curie.pgm')\n",
    "r,g,b=[img_tmp[:,:,i] for i in range(3)]\n",
    "img_einstein=(r*0.299+g*0.587+b*0.114).astype(np.uint8)#该图片为3通道，需要进行预处理"
   ]
  },
  {
   "cell_type": "code",
   "execution_count": null,
   "metadata": {},
   "outputs": [],
   "source": [
    "def blur(input,level,filter='binom5'):#blur函数，可以指定模糊的guassian pyramid level\n",
    "    input=pt.blurDn(input,level,filter)\n",
    "    return pt.upBlur(input,level,filter)"
   ]
  },
  {
   "cell_type": "code",
   "execution_count": null,
   "metadata": {},
   "outputs": [],
   "source": [
    "blurred1=0.75*blur(img_curie,1)\n",
    "blurred2=blur(img_curie,2)\n",
    "blurred3=blur(img_curie,3)\n",
    "fine1=img_einstein-2*blur(img_einstein,1)\n",
    "fine2=img_einstein-4*blur(img_einstein,2)\n",
    "fine3=img_einstein-blur(img_einstein,3)\n",
    "hybrid1=blurred1+fine1\n",
    "hybrid2=blurred2+fine2\n",
    "hybrid3=blurred3+fine3\n",
    "pt.imshow([blurred1,blurred2,blurred3])\n",
    "pt.imshow([fine1,fine2,fine3])\n",
    "pt.imshow([hybrid1,hybrid2,hybrid3])"
   ]
  },
  {
   "cell_type": "code",
   "execution_count": null,
   "metadata": {},
   "outputs": [],
   "source": [
    "plt.imsave('hybrid1.png',hybrid1,cmap='gray')\n",
    "plt.imsave('hybrid2.png',hybrid2,cmap='gray')\n",
    "plt.imsave('hybrid3.png',hybrid3,cmap='gray')"
   ]
  }
 ],
 "metadata": {
  "kernelspec": {
   "display_name": "GNN",
   "language": "python",
   "name": "python3"
  },
  "language_info": {
   "codemirror_mode": {
    "name": "ipython",
    "version": 3
   },
   "file_extension": ".py",
   "mimetype": "text/x-python",
   "name": "python",
   "nbconvert_exporter": "python",
   "pygments_lexer": "ipython3",
   "version": "3.10.10"
  },
  "orig_nbformat": 4
 },
 "nbformat": 4,
 "nbformat_minor": 2
}
